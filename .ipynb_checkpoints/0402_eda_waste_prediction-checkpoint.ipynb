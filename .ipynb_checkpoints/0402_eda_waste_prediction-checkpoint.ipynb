{
 "cells": [
  {
   "cell_type": "markdown",
   "id": "ca24c057-b725-4ce3-8998-a219a944107c",
   "metadata": {},
   "source": [
    "## EDA for Waste generation prediction"
   ]
  },
  {
   "cell_type": "code",
   "execution_count": 1,
   "id": "b476361f-e4e5-4952-a9b1-6ad7ddfa041e",
   "metadata": {},
   "outputs": [],
   "source": [
    "import numpy as np\n",
    "import pandas as pd"
   ]
  },
  {
   "cell_type": "code",
   "execution_count": 23,
   "id": "e437b15f-0b09-476d-8245-6e12cf0182d3",
   "metadata": {},
   "outputs": [
    {
     "data": {
      "text/html": [
       "<div>\n",
       "<style scoped>\n",
       "    .dataframe tbody tr th:only-of-type {\n",
       "        vertical-align: middle;\n",
       "    }\n",
       "\n",
       "    .dataframe tbody tr th {\n",
       "        vertical-align: top;\n",
       "    }\n",
       "\n",
       "    .dataframe thead th {\n",
       "        text-align: right;\n",
       "    }\n",
       "</style>\n",
       "<table border=\"1\" class=\"dataframe\">\n",
       "  <thead>\n",
       "    <tr style=\"text-align: right;\">\n",
       "      <th></th>\n",
       "      <th>Report Date</th>\n",
       "      <th>Load Type</th>\n",
       "      <th>Load Time</th>\n",
       "      <th>Load Weight</th>\n",
       "      <th>Dropoff Site</th>\n",
       "      <th>Route Type</th>\n",
       "      <th>Route Number</th>\n",
       "      <th>Load ID</th>\n",
       "    </tr>\n",
       "  </thead>\n",
       "  <tbody>\n",
       "    <tr>\n",
       "      <th>0</th>\n",
       "      <td>12/08/2020</td>\n",
       "      <td>BULK</td>\n",
       "      <td>12/08/2020 03:02:00 PM</td>\n",
       "      <td>5220.0</td>\n",
       "      <td>TDS LANDFILL</td>\n",
       "      <td>BULK</td>\n",
       "      <td>BU13</td>\n",
       "      <td>899097</td>\n",
       "    </tr>\n",
       "    <tr>\n",
       "      <th>1</th>\n",
       "      <td>12/08/2020</td>\n",
       "      <td>RECYCLING - SINGLE STREAM</td>\n",
       "      <td>12/08/2020 10:00:00 AM</td>\n",
       "      <td>11140.0</td>\n",
       "      <td>TDS - MRF</td>\n",
       "      <td>RECYCLING - SINGLE STREAM</td>\n",
       "      <td>RTAU53</td>\n",
       "      <td>899078</td>\n",
       "    </tr>\n",
       "    <tr>\n",
       "      <th>2</th>\n",
       "      <td>12/03/2020</td>\n",
       "      <td>RECYCLING - SINGLE STREAM</td>\n",
       "      <td>12/03/2020 10:34:00 AM</td>\n",
       "      <td>10060.0</td>\n",
       "      <td>BALCONES RECYCLING</td>\n",
       "      <td>RECYCLING - SINGLE STREAM</td>\n",
       "      <td>RHBU10</td>\n",
       "      <td>899082</td>\n",
       "    </tr>\n",
       "    <tr>\n",
       "      <th>3</th>\n",
       "      <td>04/09/2021</td>\n",
       "      <td>GARBAGE COLLECTIONS</td>\n",
       "      <td>04/09/2021 03:22:00 PM</td>\n",
       "      <td>25500.0</td>\n",
       "      <td>TDS LANDFILL</td>\n",
       "      <td>GARBAGE COLLECTION</td>\n",
       "      <td>PAF51</td>\n",
       "      <td>915854</td>\n",
       "    </tr>\n",
       "    <tr>\n",
       "      <th>4</th>\n",
       "      <td>12/07/2020</td>\n",
       "      <td>SWEEPING</td>\n",
       "      <td>12/07/2020 10:15:00 AM</td>\n",
       "      <td>7100.0</td>\n",
       "      <td>TDS LANDFILL</td>\n",
       "      <td>SWEEPER DUMPSITES</td>\n",
       "      <td>DSS04</td>\n",
       "      <td>899030</td>\n",
       "    </tr>\n",
       "  </tbody>\n",
       "</table>\n",
       "</div>"
      ],
      "text/plain": [
       "  Report Date                  Load Type               Load Time  Load Weight  \\\n",
       "0  12/08/2020                       BULK  12/08/2020 03:02:00 PM       5220.0   \n",
       "1  12/08/2020  RECYCLING - SINGLE STREAM  12/08/2020 10:00:00 AM      11140.0   \n",
       "2  12/03/2020  RECYCLING - SINGLE STREAM  12/03/2020 10:34:00 AM      10060.0   \n",
       "3  04/09/2021        GARBAGE COLLECTIONS  04/09/2021 03:22:00 PM      25500.0   \n",
       "4  12/07/2020                   SWEEPING  12/07/2020 10:15:00 AM       7100.0   \n",
       "\n",
       "         Dropoff Site                 Route Type Route Number  Load ID  \n",
       "0        TDS LANDFILL                       BULK         BU13   899097  \n",
       "1           TDS - MRF  RECYCLING - SINGLE STREAM       RTAU53   899078  \n",
       "2  BALCONES RECYCLING  RECYCLING - SINGLE STREAM       RHBU10   899082  \n",
       "3        TDS LANDFILL         GARBAGE COLLECTION        PAF51   915854  \n",
       "4        TDS LANDFILL          SWEEPER DUMPSITES        DSS04   899030  "
      ]
     },
     "execution_count": 23,
     "metadata": {},
     "output_type": "execute_result"
    }
   ],
   "source": [
    "austin = pd.read_csv('./data/Austin Waste Collection Report.csv')\n",
    "austin.head()"
   ]
  },
  {
   "cell_type": "code",
   "execution_count": 3,
   "id": "cb72415d-79dd-4f56-a32b-26baa9b8ecc6",
   "metadata": {},
   "outputs": [
    {
     "name": "stdout",
     "output_type": "stream",
     "text": [
      "<class 'pandas.core.frame.DataFrame'>\n",
      "RangeIndex: 740873 entries, 0 to 740872\n",
      "Data columns (total 8 columns):\n",
      " #   Column        Non-Null Count   Dtype  \n",
      "---  ------        --------------   -----  \n",
      " 0   Report Date   740873 non-null  object \n",
      " 1   Load Type     740873 non-null  object \n",
      " 2   Load Time     740873 non-null  object \n",
      " 3   Load Weight   668538 non-null  float64\n",
      " 4   Dropoff Site  740873 non-null  object \n",
      " 5   Route Type    740873 non-null  object \n",
      " 6   Route Number  740873 non-null  object \n",
      " 7   Load ID       740873 non-null  int64  \n",
      "dtypes: float64(1), int64(1), object(6)\n",
      "memory usage: 45.2+ MB\n"
     ]
    }
   ],
   "source": [
    "'''\n",
    "Feature Engineering for features\n",
    "\n",
    "data type conversion\n",
    "Report Date: object to datetime \n",
    "Load Time: object to time\n",
    "'''\n",
    "\n",
    "\n",
    "austin.info()"
   ]
  },
  {
   "cell_type": "code",
   "execution_count": 25,
   "id": "ffc5d079-5d4c-456a-9f9f-584d5f1821d6",
   "metadata": {},
   "outputs": [
    {
     "data": {
      "text/plain": [
       "Report Date     0.000000\n",
       "Load Type       0.000000\n",
       "Load Time       0.000000\n",
       "Load Weight     0.097635\n",
       "Dropoff Site    0.000000\n",
       "Route Type      0.000000\n",
       "Route Number    0.000000\n",
       "Load ID         0.000000\n",
       "dtype: float64"
      ]
     },
     "execution_count": 25,
     "metadata": {},
     "output_type": "execute_result"
    }
   ],
   "source": [
    "austin.isnull().mean() # 0.09 missing value in LoadWeight, and LoadWeight data is essential for this project, so we are going to remove null data"
   ]
  },
  {
   "cell_type": "code",
   "execution_count": 26,
   "id": "5a281e2f-05bd-4707-b8aa-b29df4e7b757",
   "metadata": {},
   "outputs": [
    {
     "data": {
      "text/plain": [
       "GARBAGE COLLECTIONS            258433\n",
       "RECYCLING - SINGLE STREAM      147652\n",
       "SWEEPING                        88563\n",
       "YARD TRIMMING                   69571\n",
       "BULK                            40120\n",
       "BRUSH                           39164\n",
       "RECYCLING - PAPER               32162\n",
       "RECYCLING - COMINGLE            31125\n",
       "ORGANICS                        17721\n",
       "DEAD ANIMAL                      6862\n",
       "TIRES                            3233\n",
       "MIXED LITTER                     2177\n",
       "LITTER                           1578\n",
       "MULCH                            1344\n",
       "RECYCLED METAL                   1049\n",
       "BAGGED LITTER                      43\n",
       "RECYCLING - PLASTIC BAGS           40\n",
       "YARD TRIMMING - X-MAS TREES        17\n",
       "MATTRESS                            9\n",
       "CONTAMINATED RECYCLING              8\n",
       "CONTAMINATED ORGANICS               1\n",
       "CONTAMINATED YARD TRIMMINGS         1\n",
       "Name: Load Type, dtype: int64"
      ]
     },
     "execution_count": 26,
     "metadata": {},
     "output_type": "execute_result"
    }
   ],
   "source": [
    "austin['Load Type'].value_counts()"
   ]
  },
  {
   "cell_type": "code",
   "execution_count": 27,
   "id": "56b218c6-376f-44c5-9ed8-1067a0d39750",
   "metadata": {},
   "outputs": [
    {
     "data": {
      "text/plain": [
       "TDS LANDFILL             325875\n",
       "HORNSBY BEND              94691\n",
       "MRF                       89625\n",
       "BALCONES RECYCLING        60121\n",
       "TDS - MRF                 56007\n",
       "ONION CREEK               38919\n",
       "ORGANICS BY GOSH          25474\n",
       "STEINER LANDFILL          11760\n",
       "WINNEBAGO                  8885\n",
       "BRAKER SITE                5855\n",
       "GREAT NORTHERN             5643\n",
       "ON ROUTE HIGH DUMP         5197\n",
       "WILCAB                     2754\n",
       "BURGER CENTER              2674\n",
       "PARK CENTER                2062\n",
       "ELMONT                     1462\n",
       "ZILKER                     1024\n",
       "PARK BEND                   396\n",
       "CLARKSON                    386\n",
       "AUSTIN IRON AND METAL       378\n",
       "KRAMER                      316\n",
       "COMMERCIAL METALS           306\n",
       "BFI LANDFILL                289\n",
       "PEASE PARK                  285\n",
       "BARTON SKYWAY               162\n",
       "INSPIRATION/GUNNISAN         78\n",
       "WESTFIELD                    68\n",
       "AUSTIN WOOD RECYCLING        53\n",
       "BALCONES WOODS               43\n",
       "ST. EDWARDS                  36\n",
       "CYCLED PLASTICS LTD          36\n",
       "CROSS PARK                   10\n",
       "LITTER DROPOFF                2\n",
       "DEEP EDDY PARK                1\n",
       "Name: Dropoff Site, dtype: int64"
      ]
     },
     "execution_count": 27,
     "metadata": {},
     "output_type": "execute_result"
    }
   ],
   "source": [
    "austin['Dropoff Site'].value_counts()"
   ]
  },
  {
   "cell_type": "code",
   "execution_count": 30,
   "id": "d8b84984-9116-47dc-9ab9-49f9a3869073",
   "metadata": {},
   "outputs": [
    {
     "data": {
      "text/plain": [
       "GARBAGE COLLECTION                  258429\n",
       "RECYCLING - SINGLE STREAM           148465\n",
       "YARD TRIMMINGS                       60560\n",
       "RECYCLING                            56479\n",
       "STREET CLEANING-RESIDENTIAL          47333\n",
       "BULK                                 39712\n",
       "BRUSH                                36673\n",
       "YARD TRIMMINGS-ORGANICS              25583\n",
       "SWEEPER DUMPSITES                    16523\n",
       "STREET CLEANING-BLVD                 11706\n",
       "STREET CLEANING-DOWNTOWN             11279\n",
       "DEAD ANIMAL                           6956\n",
       "INHOUSE - RECYCLING                   3904\n",
       "STORM                                 2703\n",
       "KAB                                   2655\n",
       "HAULING                               1991\n",
       "LITTER CONTROL                        1589\n",
       "ON CALL BULK                          1353\n",
       "STREET CLEANING-SPECIAL PROJECTS      1125\n",
       "SPECIAL PROJECT LC                     957\n",
       "RECYCLING DEAD END                     952\n",
       "SPECIAL PROJECT BU                     952\n",
       "CAP BULK                               811\n",
       "YARD TRIMMINGS-STORM CLEANUP           371\n",
       "SPECIAL EVENTS                         351\n",
       "SPECIAL PROJECT YT                     320\n",
       "STREET CLEANING-SCHOOLS                234\n",
       "CAP STORM BR                           231\n",
       "CAP BRUSH                              165\n",
       "CAP STORM                              136\n",
       "LITTER P/U                             122\n",
       "CAP STORM BU                            62\n",
       "SPECIAL PROJECT BR                      45\n",
       "RECYCLING - PILOT                       40\n",
       "STREET CLEANING-SXSW                    30\n",
       "OUT OF CYCLE BRUSH                      29\n",
       "STORM SWEEPING                          20\n",
       "OUT OF CYCLE BULK                       16\n",
       "STREET CLEANING-BIKE LANES               7\n",
       "ALLEY BULK REMOVAL                       3\n",
       "FLUSHER                                  1\n",
       "Name: Route Type, dtype: int64"
      ]
     },
     "execution_count": 30,
     "metadata": {},
     "output_type": "execute_result"
    }
   ],
   "source": [
    "austin['Route Type'].value_counts() # What does Route Type mean? "
   ]
  },
  {
   "cell_type": "code",
   "execution_count": 31,
   "id": "fb825ef9-0c4d-41ee-8d0e-56ae421b27e6",
   "metadata": {},
   "outputs": [
    {
     "data": {
      "text/plain": [
       "SDT01      11279\n",
       "DSS04       6870\n",
       "DA01        4323\n",
       "BU13        2667\n",
       "DA02        2633\n",
       "           ...  \n",
       "SSN17          1\n",
       "PW87           1\n",
       "OTNONPB        1\n",
       "DSW03          1\n",
       "SSC30          1\n",
       "Name: Route Number, Length: 2221, dtype: int64"
      ]
     },
     "execution_count": 31,
     "metadata": {},
     "output_type": "execute_result"
    }
   ],
   "source": [
    "austin['Route Number'].value_counts()"
   ]
  },
  {
   "cell_type": "code",
   "execution_count": null,
   "id": "662b091c-bc27-47a7-87e7-3fb1ed927516",
   "metadata": {},
   "outputs": [],
   "source": []
  }
 ],
 "metadata": {
  "kernelspec": {
   "display_name": "Python 3 (ipykernel)",
   "language": "python",
   "name": "python3"
  },
  "language_info": {
   "codemirror_mode": {
    "name": "ipython",
    "version": 3
   },
   "file_extension": ".py",
   "mimetype": "text/x-python",
   "name": "python",
   "nbconvert_exporter": "python",
   "pygments_lexer": "ipython3",
   "version": "3.10.9"
  }
 },
 "nbformat": 4,
 "nbformat_minor": 5
}
